{
 "cells": [
  {
   "cell_type": "markdown",
   "id": "5d1605bf-a8db-4168-9824-6096dc52e4ed",
   "metadata": {},
   "source": [
    "# Prepare Data\n",
    "\n",
    "This notebook prepares the data necessary to generate the visualizations and animations.\n",
    "It creates two files: `data/digits.parquet` and `data/epochs.parquet`.\n",
    "Because these two files are already present in the repository, you don't necessarily need to run this notebook."
   ]
  },
  {
   "cell_type": "code",
   "execution_count": 2,
   "id": "f74553ed-86ff-4cbe-95d9-c76c6e41c9ac",
   "metadata": {},
   "outputs": [],
   "source": [
    "import polars as pl\n",
    "import numpy as np\n",
    "import umap\n",
    "\n",
    "from sklearn.datasets import fetch_openml"
   ]
  },
  {
   "cell_type": "code",
   "execution_count": 3,
   "id": "ce8259e0-20b9-4511-9508-abf8bac17748",
   "metadata": {},
   "outputs": [],
   "source": [
    "mnist = fetch_openml(\"mnist_784\", version=1)"
   ]
  },
  {
   "cell_type": "code",
   "execution_count": 7,
   "id": "d48c9256-63d1-4444-9e35-e2140ab0d2eb",
   "metadata": {},
   "outputs": [],
   "source": [
    "num_digits = 30_000\n",
    "num_epochs = 200"
   ]
  },
  {
   "cell_type": "markdown",
   "id": "0afdc057-f75f-463f-a881-2941baf9a9be",
   "metadata": {},
   "source": [
    "## Save the MNIST dataset"
   ]
  },
  {
   "cell_type": "code",
   "execution_count": 11,
   "id": "b538bd08-e6a0-4782-8477-752a53275693",
   "metadata": {},
   "outputs": [],
   "source": [
    "df_digits = (\n",
    "    pl.from_pandas(mnist.data[:num_digits])\n",
    "    .with_columns(digit=pl.Series(mnist.target[:num_digits]))\n",
    ")\n",
    "df_digits.write_parquet(\"data/digits.parquet\")"
   ]
  },
  {
   "cell_type": "markdown",
   "id": "14f8a2ca-ef2d-4eb5-aaa7-fb6c5ded1d3d",
   "metadata": {},
   "source": [
    "## Apply UMAP"
   ]
  },
  {
   "cell_type": "code",
   "execution_count": 12,
   "id": "70412959-17fb-478c-8c39-1bb3e47daa0b",
   "metadata": {},
   "outputs": [
    {
     "name": "stderr",
     "output_type": "stream",
     "text": [
      "/Users/jeroen/Library/Caches/pypoetry/virtualenvs/non-package-mode-ZsQjsKQj-py3.12/lib/python3.12/site-packages/umap/umap_.py:1945: UserWarning: n_jobs value 1 overridden to 1 by setting random_state. Use no seed for parallelism.\n",
      "  warn(f\"n_jobs value {self.n_jobs} overridden to 1 by setting random_state. Use no seed for parallelism.\")\n"
     ]
    }
   ],
   "source": [
    "reducer = umap.UMAP(random_state=42, n_epochs=list(range(num_epochs)))\n",
    "final_embedding = reducer.fit_transform(df_digits.drop(\"digit\"))\n",
    "np.save(f\"epoch-{num_epochs-1:06d}.npy\", final_embedding)"
   ]
  },
  {
   "cell_type": "code",
   "execution_count": 13,
   "id": "f11113ca-6eba-49c7-ad29-e7212f0767f4",
   "metadata": {},
   "outputs": [],
   "source": [
    "! mkdir epochs && mv *.npy epochs"
   ]
  },
  {
   "cell_type": "markdown",
   "id": "c458cfce-fd5c-4c59-a07a-2e0012a52d4e",
   "metadata": {},
   "source": [
    "## Save intermediate embeddings at every epoch"
   ]
  },
  {
   "cell_type": "code",
   "execution_count": 21,
   "id": "a2436c97-3970-4c28-8aa5-b7988c17931e",
   "metadata": {},
   "outputs": [],
   "source": [
    "df_epochs = (\n",
    "    pl.concat([\n",
    "        (\n",
    "            pl.from_numpy(np.load(f\"epochs/epoch-{i:06d}.npy\"), schema=[\"x\", \"y\"])\n",
    "            .with_columns(\n",
    "                digit=pl.Series(mnist.target[:num_digits]),\n",
    "                epoch=pl.lit(i).cast(pl.UInt16)\n",
    "            ).with_row_index()\n",
    "        ) for i in range(num_epochs)\n",
    "    ])\n",
    "    .sort(\"epoch\", \"index\")\n",
    "    .with_columns(pl.col(\"x\", \"y\") - pl.col(\"x\", \"y\").min())\n",
    "    .with_columns(pl.col(\"x\", \"y\") / pl.col(\"x\", \"y\").max())\n",
    ")"
   ]
  },
  {
   "cell_type": "code",
   "execution_count": 22,
   "id": "1e15a1c6-ce98-46b4-b4b3-f83d8c808564",
   "metadata": {},
   "outputs": [
    {
     "data": {
      "text/html": [
       "<div><style>\n",
       ".dataframe > thead > tr,\n",
       ".dataframe > tbody > tr {\n",
       "  text-align: right;\n",
       "  white-space: pre-wrap;\n",
       "}\n",
       "</style>\n",
       "<small>shape: (6_000_000, 5)</small><table border=\"1\" class=\"dataframe\"><thead><tr><th>index</th><th>x</th><th>y</th><th>digit</th><th>epoch</th></tr><tr><td>u32</td><td>f32</td><td>f32</td><td>cat</td><td>u16</td></tr></thead><tbody><tr><td>0</td><td>0.481639</td><td>0.526492</td><td>&quot;5&quot;</td><td>0</td></tr><tr><td>1</td><td>0.61237</td><td>0.573228</td><td>&quot;0&quot;</td><td>0</td></tr><tr><td>2</td><td>0.42596</td><td>0.636468</td><td>&quot;4&quot;</td><td>0</td></tr><tr><td>3</td><td>0.400917</td><td>0.414444</td><td>&quot;1&quot;</td><td>0</td></tr><tr><td>4</td><td>0.41914</td><td>0.602288</td><td>&quot;9&quot;</td><td>0</td></tr><tr><td>&hellip;</td><td>&hellip;</td><td>&hellip;</td><td>&hellip;</td><td>&hellip;</td></tr><tr><td>29995</td><td>0.382934</td><td>0.505783</td><td>&quot;8&quot;</td><td>199</td></tr><tr><td>29996</td><td>0.36772</td><td>0.719987</td><td>&quot;9&quot;</td><td>199</td></tr><tr><td>29997</td><td>0.826281</td><td>0.416917</td><td>&quot;6&quot;</td><td>199</td></tr><tr><td>29998</td><td>0.207882</td><td>0.718433</td><td>&quot;7&quot;</td><td>199</td></tr><tr><td>29999</td><td>0.1964</td><td>0.368493</td><td>&quot;1&quot;</td><td>199</td></tr></tbody></table></div>"
      ],
      "text/plain": [
       "shape: (6_000_000, 5)\n",
       "┌───────┬──────────┬──────────┬───────┬───────┐\n",
       "│ index ┆ x        ┆ y        ┆ digit ┆ epoch │\n",
       "│ ---   ┆ ---      ┆ ---      ┆ ---   ┆ ---   │\n",
       "│ u32   ┆ f32      ┆ f32      ┆ cat   ┆ u16   │\n",
       "╞═══════╪══════════╪══════════╪═══════╪═══════╡\n",
       "│ 0     ┆ 0.481639 ┆ 0.526492 ┆ 5     ┆ 0     │\n",
       "│ 1     ┆ 0.61237  ┆ 0.573228 ┆ 0     ┆ 0     │\n",
       "│ 2     ┆ 0.42596  ┆ 0.636468 ┆ 4     ┆ 0     │\n",
       "│ 3     ┆ 0.400917 ┆ 0.414444 ┆ 1     ┆ 0     │\n",
       "│ 4     ┆ 0.41914  ┆ 0.602288 ┆ 9     ┆ 0     │\n",
       "│ …     ┆ …        ┆ …        ┆ …     ┆ …     │\n",
       "│ 29995 ┆ 0.382934 ┆ 0.505783 ┆ 8     ┆ 199   │\n",
       "│ 29996 ┆ 0.36772  ┆ 0.719987 ┆ 9     ┆ 199   │\n",
       "│ 29997 ┆ 0.826281 ┆ 0.416917 ┆ 6     ┆ 199   │\n",
       "│ 29998 ┆ 0.207882 ┆ 0.718433 ┆ 7     ┆ 199   │\n",
       "│ 29999 ┆ 0.1964   ┆ 0.368493 ┆ 1     ┆ 199   │\n",
       "└───────┴──────────┴──────────┴───────┴───────┘"
      ]
     },
     "execution_count": 22,
     "metadata": {},
     "output_type": "execute_result"
    }
   ],
   "source": [
    "df_epochs"
   ]
  },
  {
   "cell_type": "code",
   "execution_count": 23,
   "id": "d775375a-74b2-4919-9990-ed80e7db1f08",
   "metadata": {},
   "outputs": [],
   "source": [
    "df_epochs.write_parquet(\"data/epochs.parquet\")"
   ]
  },
  {
   "cell_type": "code",
   "execution_count": null,
   "id": "f3f4d1c3-fccd-43e6-8c16-06728fbb5b2b",
   "metadata": {},
   "outputs": [],
   "source": []
  }
 ],
 "metadata": {
  "kernelspec": {
   "display_name": "Python 3 (ipykernel)",
   "language": "python",
   "name": "python3"
  },
  "language_info": {
   "codemirror_mode": {
    "name": "ipython",
    "version": 3
   },
   "file_extension": ".py",
   "mimetype": "text/x-python",
   "name": "python",
   "nbconvert_exporter": "python",
   "pygments_lexer": "ipython3",
   "version": "3.12.3"
  }
 },
 "nbformat": 4,
 "nbformat_minor": 5
}
